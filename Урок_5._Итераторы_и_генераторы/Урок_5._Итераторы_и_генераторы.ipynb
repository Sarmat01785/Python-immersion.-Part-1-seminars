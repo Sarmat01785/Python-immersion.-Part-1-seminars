{
 "cells": [
  {
   "cell_type": "markdown",
   "metadata": {},
   "source": [
    "# Урок 5. Итераторы и генераторы"
   ]
  },
  {
   "cell_type": "markdown",
   "metadata": {},
   "source": [
    "'''\n",
    "Задание №1\n",
    "\n",
    "Пользователь вводит строку из четырёх или более целых чисел, разделённых символом \"/\".\n",
    "\n",
    "- Сформируйте словарь, где: второе и третье число являются ключами.\n",
    "\n",
    "- Первое число является значением для первого ключа.\n",
    "\n",
    "- Четвертое и все возможные последующие числа хранятся в кортеже как значения второго ключа.\n",
    "'''"
   ]
  },
  {
   "cell_type": "code",
   "execution_count": 3,
   "metadata": {},
   "outputs": [
    {
     "name": "stdout",
     "output_type": "stream",
     "text": [
      "{15: 5, 0: (45687, 0, 23, 12, 45987, 6)}\n"
     ]
    }
   ],
   "source": [
    "def create_dictionary_from_input():\n",
    "    \"\"\"\n",
    "    Запрашивает у пользователя строку из четырех или более чисел, разделенных символом \"/\",\n",
    "    и формирует словарь, где второе и третье число являются ключами, первое число — значением\n",
    "    для первого ключа, а четвертое и все последующие числа — в кортеже как значения второго ключа.\n",
    "    \"\"\"\n",
    "    # Получаем строку от пользователя\n",
    "    input_string = input(\"Введите четыре или более числа, разделенные символом '/': \")\n",
    "    # Разделяем строку на числа\n",
    "    numbers = input_string.split('/')\n",
    "    \n",
    "    # Проверяем, что чисел достаточное количество\n",
    "    if len(numbers) < 4:\n",
    "        print(\"Ошибка: нужно ввести четыре или более числа.\")\n",
    "        return\n",
    "\n",
    "    # Преобразуем строки в целые числа\n",
    "    numbers = [int(num) for num in numbers]\n",
    "    \n",
    "    # Формируем словарь согласно условиям задачи\n",
    "    result_dict = {numbers[1]: numbers[0], numbers[2]: tuple(numbers[3:])}\n",
    "    \n",
    "    return result_dict\n",
    "\n",
    "# Вызываем функцию и выводим результат\n",
    "result = create_dictionary_from_input()\n",
    "print(result)"
   ]
  },
  {
   "cell_type": "markdown",
   "metadata": {},
   "source": [
    "'''\n",
    "Задание №2\n",
    "\n",
    "- Самостоятельно сохраните в переменной строку текста.\n",
    "\n",
    "- Создайте из строки словарь, где ключ - буква, а значение - код буквы.\n",
    "\n",
    "- Напишите преобразование в одну строку.\n",
    "'''"
   ]
  },
  {
   "cell_type": "code",
   "execution_count": 5,
   "metadata": {},
   "outputs": [
    {
     "name": "stdout",
     "output_type": "stream",
     "text": [
      "{'П': 1055, 'р': 1088, 'и': 1080, 'м': 1084, 'е': 1077, ' ': 32, 'т': 1090, 'к': 1082, 'с': 1089, 'а': 1072}\n"
     ]
    }
   ],
   "source": [
    "# Сохраняем строку текста в переменной\n",
    "text = \"Пример текста\"\n",
    "\n",
    "# Создаем словарь, где ключ - буква, а значение - ее код, используя генератор словаря\n",
    "letters_to_codes = {char: ord(char) for char in text}\n",
    "\n",
    "print(letters_to_codes)"
   ]
  }
 ],
 "metadata": {
  "kernelspec": {
   "display_name": "Python 3 (ipykernel)",
   "language": "python",
   "name": "python3"
  },
  "language_info": {
   "codemirror_mode": {
    "name": "ipython",
    "version": 3
   },
   "file_extension": ".py",
   "mimetype": "text/x-python",
   "name": "python",
   "nbconvert_exporter": "python",
   "pygments_lexer": "ipython3",
   "version": "3.11.5"
  }
 },
 "nbformat": 4,
 "nbformat_minor": 2
}
