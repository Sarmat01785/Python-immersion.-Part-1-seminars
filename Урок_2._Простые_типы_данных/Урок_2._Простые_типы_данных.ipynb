{
 "cells": [
  {
   "cell_type": "markdown",
   "metadata": {},
   "source": [
    "# Урок 2. Простые типы данных"
   ]
  },
  {
   "cell_type": "markdown",
   "metadata": {},
   "source": [
    "### Задача 1\n",
    "\n",
    "Создайте несколько переменый разных типов.\n",
    "Проверте к какому типу относяться созданные переменные."
   ]
  },
  {
   "cell_type": "code",
   "execution_count": 7,
   "metadata": {},
   "outputs": [
    {
     "name": "stdout",
     "output_type": "stream",
     "text": [
      "<class 'str'>\n",
      "<class 'int'>\n",
      "<class 'float'>\n",
      "<class 'bool'>\n",
      "<class 'list'>\n",
      "<class 'tuple'>\n",
      "<class 'dict'>\n"
     ]
    }
   ],
   "source": [
    "# Переменная типа str\n",
    "name = 'John'\n",
    "print(type(name))  # Выведет <class 'str'>\n",
    "\n",
    "# Переменная типа int\n",
    "age = 30\n",
    "print(type(age))  # Выведет <class 'int'>\n",
    "\n",
    "# Переменная типа float\n",
    "height = 1.85\n",
    "print(type(height))  # Выведет <class 'float'>\n",
    "\n",
    "# Переменная типа bool\n",
    "is_student = False\n",
    "print(type(is_student))  # Выведет <class 'bool'>\n",
    "\n",
    "# Переменная типа list\n",
    "hobbies = ['reading', 'swimming']\n",
    "print(type(hobbies))  # Выведет <class 'list'>\n",
    "\n",
    "# Переменная типа tuple\n",
    "address = ('New York', 'USA')\n",
    "print(type(address))  # Выведет <class 'tuple'>\n",
    "\n",
    "# Переменная типа dict\n",
    "personal_info = {'name': 'John', 'age': 30, 'height': 1.85}\n",
    "print(type(personal_info))  # Выведет <class 'dict'>"
   ]
  }
 ],
 "metadata": {
  "kernelspec": {
   "display_name": "Python 3 (ipykernel)",
   "language": "python",
   "name": "python3"
  },
  "language_info": {
   "codemirror_mode": {
    "name": "ipython",
    "version": 3
   },
   "file_extension": ".py",
   "mimetype": "text/x-python",
   "name": "python",
   "nbconvert_exporter": "python",
   "pygments_lexer": "ipython3",
   "version": "3.11.5"
  }
 },
 "nbformat": 4,
 "nbformat_minor": 2
}
