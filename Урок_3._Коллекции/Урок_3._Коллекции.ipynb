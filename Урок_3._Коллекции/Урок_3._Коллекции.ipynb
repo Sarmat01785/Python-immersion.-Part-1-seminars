{
 "cells": [
  {
   "cell_type": "markdown",
   "metadata": {},
   "source": [
    "# Погружение в Python. Часть 1 семинары\n",
    "\n",
    "## Урок 3. Коллекции                                                                                                         "
   ]
  },
  {
   "cell_type": "markdown",
   "metadata": {},
   "source": [
    "Задача 1\n",
    "\n",
    "- Вручную создайте список с целыми числами,которые повторяються.\n",
    "\n",
    "- Получите новый список, который содержит уникальные (без повтора ) элементы исходного списка.\n",
    "\n",
    "- Подготовьте два решения, короткое и длинное, которое не использует другие коллекции помимо списков."
   ]
  },
  {
   "cell_type": "markdown",
   "metadata": {},
   "source": [
    "### Короткое решение (использование множества):"
   ]
  },
  {
   "cell_type": "code",
   "execution_count": 6,
   "metadata": {},
   "outputs": [
    {
     "name": "stdout",
     "output_type": "stream",
     "text": [
      "original_list=[1, 2, 3, 2, 4, 5, 5, 6, 1]\n",
      "unique_list=[1, 2, 3, 4, 5, 6]\n"
     ]
    }
   ],
   "source": [
    "# Исходный список\n",
    "original_list = [1, 2, 3, 2, 4, 5, 5, 6, 1]\n",
    "\n",
    "# Преобразование списка в множество для удаления дубликатов, затем обратно в список\n",
    "unique_list = list(set(original_list))\n",
    "\n",
    "print(f'{original_list=}')\n",
    "print(f'{unique_list=}')\n"
   ]
  },
  {
   "cell_type": "markdown",
   "metadata": {},
   "source": [
    "### Длинное решение (только с использованием списков):"
   ]
  },
  {
   "cell_type": "code",
   "execution_count": 7,
   "metadata": {},
   "outputs": [
    {
     "name": "stdout",
     "output_type": "stream",
     "text": [
      "original_list=[1, 2, 3, 2, 4, 5, 5, 6, 1]\n",
      "unique_list=[1, 2, 3, 4, 5, 6]\n"
     ]
    }
   ],
   "source": [
    "# Исходный список\n",
    "original_list = [1, 2, 3, 2, 4, 5, 5, 6, 1]\n",
    "\n",
    "# Создаем новый список для уникальных элементов\n",
    "unique_list = []\n",
    "\n",
    "# Перебираем исходный список\n",
    "for item in original_list:\n",
    "    # Добавляем элемент в новый список, если он там еще не присутствует\n",
    "    if item not in unique_list:\n",
    "        unique_list.append(item)\n",
    "\n",
    "print(f'{original_list=}')\n",
    "print(f'{unique_list=}')"
   ]
  },
  {
   "cell_type": "markdown",
   "metadata": {},
   "source": [
    "Задача 2\n",
    "\n",
    "Пользователь вводит данные. Сделайте проверку данных и преобразуйте если возможно в один из вариантов ниже:\n",
    "\n",
    "- Целое положительное число\n",
    "\n",
    "- Вещественное положительное или отрицательное число\n",
    "\n",
    "- Строку в нижнем регистре, если в строке есть хотя бы одна заглавная буква\n",
    "\n",
    "- Строку в верхнем регистре, если в строке есть хотя бы одна буква в нижнем регистре"
   ]
  },
  {
   "cell_type": "code",
   "execution_count": 28,
   "metadata": {},
   "outputs": [
    {
     "name": "stdout",
     "output_type": "stream",
     "text": [
      "Вы ввели: SHDJ12-.25sdfk***hgf/,nsksAS-56\n",
      "Строка с буквами в разных регистрах переведена в верхний регистр: SHDJ12-.25SDFK***HGF/,NSKSAS-56\n"
     ]
    }
   ],
   "source": [
    "# Пользователь вводит данные\n",
    "user_input = input(\"Введите данные: \")\n",
    "\n",
    "# Выводим то, что ввел пользователь\n",
    "print(\"Вы ввели:\", user_input)\n",
    "\n",
    "# Проверяем, можно ли преобразовать введенные данные в целое число\n",
    "try:\n",
    "    int_value = int(user_input)\n",
    "    if int_value > 0:\n",
    "        print(\"Целое положительное число:\", int_value)\n",
    "    else:\n",
    "        print(\"Введено не положительное целое число:\", int_value)\n",
    "except ValueError:\n",
    "    # Проверяем, можно ли преобразовать введенные данные в вещественное число\n",
    "    try:\n",
    "        float_value = float(user_input)\n",
    "        print(\"Вещественное число:\", float_value)\n",
    "    except ValueError:\n",
    "        # Проверяем наличие букв в разных регистрах\n",
    "        if any(c.isupper() for c in user_input) and any(c.islower() for c in user_input):\n",
    "            # Если есть буквы в обоих регистрах, преобразуем в верхний регистр\n",
    "            print(\"Строка с буквами в разных регистрах переведена в верхний регистр:\", user_input.upper())\n",
    "        elif any(c.isupper() for c in user_input):\n",
    "            # Если есть хотя бы одна заглавная буква, преобразуем в нижний регистр\n",
    "            print(\"Строка с заглавными буквами переведена в нижний регистр:\", user_input.lower())\n",
    "        elif any(c.islower() for c in user_input):\n",
    "            # Если есть хотя бы одна буква в нижнем регистре, преобразуем в верхний регистр\n",
    "            print(\"Строка с буквами в нижнем регистре переведена в верхний регистр:\", user_input.upper())\n",
    "        else:\n",
    "            # Если в строке нет букв, выводим ее без изменений\n",
    "            print(\"Строка без букв:\", user_input)"
   ]
  }
 ],
 "metadata": {
  "kernelspec": {
   "display_name": "Python 3 (ipykernel)",
   "language": "python",
   "name": "python3"
  },
  "language_info": {
   "codemirror_mode": {
    "name": "ipython",
    "version": 3
   },
   "file_extension": ".py",
   "mimetype": "text/x-python",
   "name": "python",
   "nbconvert_exporter": "python",
   "pygments_lexer": "ipython3",
   "version": "3.11.5"
  }
 },
 "nbformat": 4,
 "nbformat_minor": 2
}
