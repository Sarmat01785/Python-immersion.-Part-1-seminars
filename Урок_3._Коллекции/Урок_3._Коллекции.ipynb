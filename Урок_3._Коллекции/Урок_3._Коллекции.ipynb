{
 "cells": [
  {
   "cell_type": "markdown",
   "metadata": {},
   "source": [
    "# Погружение в Python. Часть 1 семинары\n",
    "\n",
    "## Урок 3. Коллекции                                                                                                         "
   ]
  },
  {
   "cell_type": "markdown",
   "metadata": {},
   "source": [
    "Задача 1\n",
    "\n",
    "- Вручную создайте список с целыми числами,которые повторяються.\n",
    "\n",
    "- Получите новый список, который содержит уникальные (без повтора ) элементы исходного списка.\n",
    "\n",
    "- Подготовьте два решения, короткое и длинное, которое не использует другие коллекции помимо списков."
   ]
  },
  {
   "cell_type": "markdown",
   "metadata": {},
   "source": [
    "### Короткое решение (использование множества):"
   ]
  },
  {
   "cell_type": "code",
   "execution_count": 6,
   "metadata": {},
   "outputs": [
    {
     "name": "stdout",
     "output_type": "stream",
     "text": [
      "original_list=[1, 2, 3, 2, 4, 5, 5, 6, 1]\n",
      "unique_list=[1, 2, 3, 4, 5, 6]\n"
     ]
    }
   ],
   "source": [
    "# Исходный список\n",
    "original_list = [1, 2, 3, 2, 4, 5, 5, 6, 1]\n",
    "\n",
    "# Преобразование списка в множество для удаления дубликатов, затем обратно в список\n",
    "unique_list = list(set(original_list))\n",
    "\n",
    "print(f'{original_list=}')\n",
    "print(f'{unique_list=}')\n"
   ]
  },
  {
   "cell_type": "markdown",
   "metadata": {},
   "source": [
    "### Длинное решение (только с использованием списков):"
   ]
  },
  {
   "cell_type": "code",
   "execution_count": 7,
   "metadata": {},
   "outputs": [
    {
     "name": "stdout",
     "output_type": "stream",
     "text": [
      "original_list=[1, 2, 3, 2, 4, 5, 5, 6, 1]\n",
      "unique_list=[1, 2, 3, 4, 5, 6]\n"
     ]
    }
   ],
   "source": [
    "# Исходный список\n",
    "original_list = [1, 2, 3, 2, 4, 5, 5, 6, 1]\n",
    "\n",
    "# Создаем новый список для уникальных элементов\n",
    "unique_list = []\n",
    "\n",
    "# Перебираем исходный список\n",
    "for item in original_list:\n",
    "    # Добавляем элемент в новый список, если он там еще не присутствует\n",
    "    if item not in unique_list:\n",
    "        unique_list.append(item)\n",
    "\n",
    "print(f'{original_list=}')\n",
    "print(f'{unique_list=}')"
   ]
  },
  {
   "cell_type": "markdown",
   "metadata": {},
   "source": []
  }
 ],
 "metadata": {
  "kernelspec": {
   "display_name": "Python 3 (ipykernel)",
   "language": "python",
   "name": "python3"
  },
  "language_info": {
   "codemirror_mode": {
    "name": "ipython",
    "version": 3
   },
   "file_extension": ".py",
   "mimetype": "text/x-python",
   "name": "python",
   "nbconvert_exporter": "python",
   "pygments_lexer": "ipython3",
   "version": "3.11.5"
  }
 },
 "nbformat": 4,
 "nbformat_minor": 2
}
